{
 "cells": [
  {
   "cell_type": "markdown",
   "id": "37bf56f6-c781-477c-8b3c-a751f9579050",
   "metadata": {},
   "source": [
    "# Data Science Tools and Ecosystem"
   ]
  },
  {
   "cell_type": "markdown",
   "id": "99dca7e9-b27e-443a-8ccf-090dbbe54ab1",
   "metadata": {},
   "source": [
    "## In this notebook, Data Science Tools and Ecosystem are summarized."
   ]
  },
  {
   "cell_type": "markdown",
   "id": "893d50e0-bb8c-484e-9698-acdf89515d91",
   "metadata": {},
   "source": [
    "## Some of the popular languages that Data Scientists use are:\n",
    "1. Python.\n",
    "2. R.\n",
    "3. SQL.\n",
    "4. Julia."
   ]
  },
  {
   "cell_type": "markdown",
   "id": "bd438fa9-417b-4894-a541-a0e5a595a404",
   "metadata": {},
   "source": [
    "## Some of the commonly used libraries used by Data Scientists include:\n",
    "1. Pandas\n",
    "2. Matplotlib\n",
    "3. Tensorflow\n",
    "4. Numpy"
   ]
  },
  {
   "cell_type": "markdown",
   "id": "1292d20b-b42b-4e71-9ffb-d142559b512f",
   "metadata": {},
   "source": [
    "| Data Science Tools |\n",
    "|--------------------|\n",
    "| Apache Spark |\n",
    "| Tensor Flow |\n",
    "| Apache Hadoop |\n"
   ]
  },
  {
   "cell_type": "markdown",
   "id": "d6afc787-9148-43e2-8df8-024821f652ce",
   "metadata": {},
   "source": [
    "### Below are a few examples of evaluating arithmetic expressions in Python:"
   ]
  },
  {
   "cell_type": "code",
   "execution_count": 1,
   "id": "e0552956-aeb0-40ed-ac18-698c15264262",
   "metadata": {
    "tags": []
   },
   "outputs": [
    {
     "data": {
      "text/plain": [
       "5"
      ]
     },
     "execution_count": 1,
     "metadata": {},
     "output_type": "execute_result"
    }
   ],
   "source": [
    "2 + 3"
   ]
  },
  {
   "cell_type": "code",
   "execution_count": 2,
   "id": "75879efd-d8ae-4f27-9362-72f27d1be027",
   "metadata": {
    "tags": []
   },
   "outputs": [
    {
     "data": {
      "text/plain": [
       "30"
      ]
     },
     "execution_count": 2,
     "metadata": {},
     "output_type": "execute_result"
    }
   ],
   "source": [
    "5 * 6"
   ]
  },
  {
   "cell_type": "code",
   "execution_count": 3,
   "id": "fa86674e-d811-4131-871b-95503e40f0a2",
   "metadata": {
    "tags": []
   },
   "outputs": [
    {
     "data": {
      "text/plain": [
       "-1"
      ]
     },
     "execution_count": 3,
     "metadata": {},
     "output_type": "execute_result"
    }
   ],
   "source": [
    "9 - 10"
   ]
  },
  {
   "cell_type": "code",
   "execution_count": 4,
   "id": "58c4c543-2789-4a48-b658-53e48f10e625",
   "metadata": {
    "tags": []
   },
   "outputs": [
    {
     "data": {
      "text/plain": [
       "17"
      ]
     },
     "execution_count": 4,
     "metadata": {},
     "output_type": "execute_result"
    }
   ],
   "source": [
    "# This a simple arithmetic expression to mutiply then add integers\n",
    "(3*4)+5"
   ]
  },
  {
   "cell_type": "code",
   "execution_count": 5,
   "id": "dd0f1ab0-610e-49e7-8188-8497d41e6890",
   "metadata": {
    "tags": []
   },
   "outputs": [
    {
     "data": {
      "text/plain": [
       "3.3333333333333335"
      ]
     },
     "execution_count": 5,
     "metadata": {},
     "output_type": "execute_result"
    }
   ],
   "source": [
    "# This will convert 200 minutes to hours by dividing by 60\n",
    "(200 / 60)"
   ]
  },
  {
   "cell_type": "markdown",
   "id": "fabf2b1b-2523-4fb8-ad9d-d485386f385c",
   "metadata": {},
   "source": [
    "## **Objectives:**\n",
    "- Popular languages used in Data Science are Python, Sql, etc.,.\n",
    "- Pandas, Numpy and Matplotlib are most commonly used libraries.\n",
    "- Jupyter Notebook is one of the most used Data Science open source tool."
   ]
  },
  {
   "cell_type": "markdown",
   "id": "256e762e-96c1-47c6-af9c-e15ae1151294",
   "metadata": {},
   "source": [
    "## Author\n",
    "Bharadwaj\n"
   ]
  },
  {
   "cell_type": "code",
   "execution_count": null,
   "id": "fc6b9a47-1693-4b71-8327-d1ac33311bca",
   "metadata": {},
   "outputs": [],
   "source": []
  }
 ],
 "metadata": {
  "kernelspec": {
   "display_name": "Python",
   "language": "python",
   "name": "conda-env-python-py"
  },
  "language_info": {
   "codemirror_mode": {
    "name": "ipython",
    "version": 3
   },
   "file_extension": ".py",
   "mimetype": "text/x-python",
   "name": "python",
   "nbconvert_exporter": "python",
   "pygments_lexer": "ipython3",
   "version": "3.7.12"
  }
 },
 "nbformat": 4,
 "nbformat_minor": 5
}
